{
 "cells": [
  {
   "cell_type": "code",
   "execution_count": 13,
   "metadata": {},
   "outputs": [],
   "source": [
    "import numpy as np\n",
    "import json\n",
    "import math\n",
    "\n",
    "import mr.dataset\n",
    "import mr.io"
   ]
  },
  {
   "cell_type": "code",
   "execution_count": 14,
   "metadata": {},
   "outputs": [],
   "source": [
    "filename = mr.dataset.download_ml_small()\n",
    "filename = mr.dataset.download_ml_25m()"
   ]
  },
  {
   "cell_type": "code",
   "execution_count": 15,
   "metadata": {},
   "outputs": [],
   "source": [
    "M = mr.io.read_movielens_input(filename)"
   ]
  },
  {
   "cell_type": "code",
   "execution_count": 16,
   "metadata": {},
   "outputs": [
    {
     "name": "stdout",
     "output_type": "stream",
     "text": [
      "162541\n",
      "59047\n"
     ]
    }
   ],
   "source": [
    "# MAPPING\n",
    "\n",
    "row2new_row = dict()\n",
    "col2new_col = dict()\n",
    "\n",
    "row_counter = 0\n",
    "col_counter = 0\n",
    "for i, nnz in enumerate(M):\n",
    "    row, col, rating = nnz\n",
    "    row = int(row)\n",
    "    col = int(col)\n",
    "    \n",
    "    if row not in row2new_row:\n",
    "        row2new_row[row] = row_counter\n",
    "        row_counter += 1\n",
    "    \n",
    "    if col not in col2new_col:\n",
    "        col2new_col[col] = col_counter\n",
    "        col_counter += 1\n",
    "    \n",
    "    M[i][0] = row2new_row[row]\n",
    "    M[i][1] = col2new_col[col]\n",
    "    \n",
    "\n",
    "print(row_counter)\n",
    "print(col_counter)"
   ]
  },
  {
   "cell_type": "code",
   "execution_count": 17,
   "metadata": {},
   "outputs": [],
   "source": [
    "# Save mapping and new matrix\n",
    "\n",
    "dataset_name = filename.split('.')[0]\n",
    "np.save(dataset_name, M)\n",
    "\n",
    "mapping = dict()\n",
    "mapping['row'] = row2new_row\n",
    "mapping['col'] = col2new_col\n",
    "\n",
    "with open('{}_map.json'.format(dataset_name), 'w') as file:\n",
    "    json.dump(mapping, file)"
   ]
  },
  {
   "cell_type": "code",
   "execution_count": 18,
   "metadata": {},
   "outputs": [],
   "source": [
    "# Load the matrix\n",
    "\n",
    "M = np.load('{}.npy'.format(dataset_name))"
   ]
  },
  {
   "cell_type": "code",
   "execution_count": 19,
   "metadata": {},
   "outputs": [],
   "source": [
    "# Shuffle and split\n",
    "\n",
    "np.random.shuffle(M)\n",
    "nnz_count = M.shape[0]\n",
    "\n",
    "training_count = round(nnz_count * 0.8)\n",
    "test_count = nnz_count - training_count\n",
    "\n",
    "M_train = M[:training_count, :]\n",
    "M_test = M[training_count:, :]"
   ]
  },
  {
   "cell_type": "code",
   "execution_count": 20,
   "metadata": {},
   "outputs": [],
   "source": [
    "def calc_rmse(y_true, y_predict):\n",
    "    # parameters should be np.array\n",
    "    \n",
    "    return math.sqrt(np.sum((y_predict - y_true) ** 2) / len(y_true))"
   ]
  },
  {
   "cell_type": "code",
   "execution_count": 21,
   "metadata": {},
   "outputs": [
    {
     "name": "stdout",
     "output_type": "stream",
     "text": [
      "Mean of the matrix: 3.534\n",
      "RMSE using the average of matrix: 1.06064\n"
     ]
    }
   ],
   "source": [
    "mean = M_train[:, 2].mean()\n",
    "\n",
    "print('Mean of the matrix: {:.3f}'.format(mean))\n",
    "\n",
    "y_true = M_test[:, 2]\n",
    "y_predict = mean\n",
    "\n",
    "rmse = calc_rmse(y_true, y_predict)\n",
    "print('RMSE using the average of matrix: {:.5f}'.format(rmse))"
   ]
  },
  {
   "cell_type": "code",
   "execution_count": 22,
   "metadata": {},
   "outputs": [],
   "source": [
    "row_count = int(M[:, 0].max() + 1)\n",
    "col_count = int(M[:, 1].max() + 1)\n",
    "\n",
    "row2mean = np.zeros(row_count)\n",
    "row2count = np.zeros(row_count)\n",
    "\n",
    "col2mean = np.zeros(col_count)\n",
    "col2count = np.zeros(col_count)\n",
    "\n",
    "for nnz in M:\n",
    "    row, col, rating = nnz\n",
    "    row = int(row)\n",
    "    col = int(col)\n",
    "    row2count[row] += 1\n",
    "    row2mean[row] += rating\n",
    "    \n",
    "    col2count[col] += 1\n",
    "    col2mean[col] += rating\n",
    "\n",
    "row2mean[row] /= row2count[row]\n",
    "col2mean[col] /= col2count[col]"
   ]
  },
  {
   "cell_type": "code",
   "execution_count": 23,
   "metadata": {},
   "outputs": [
    {
     "name": "stdout",
     "output_type": "stream",
     "text": [
      "RMSE using the average of row: 1.06197\n"
     ]
    }
   ],
   "source": [
    "y_true = M_test[:, 2]\n",
    "y_predict = np.zeros(len(y_true))\n",
    "\n",
    "for i, nnz in enumerate(M_test):\n",
    "    row, col, rating = nnz\n",
    "    row = int(row)\n",
    "    col = int(col)\n",
    "    \n",
    "    y_predict = row2mean[row]\n",
    "    \n",
    "rmse = calc_rmse(y_true, y_predict)\n",
    "print('RMSE using the average of row: {:.5f}'.format(rmse))"
   ]
  },
  {
   "cell_type": "code",
   "execution_count": 24,
   "metadata": {},
   "outputs": [
    {
     "name": "stdout",
     "output_type": "stream",
     "text": [
      "RMSE using the average of columns: 1.06074\n"
     ]
    }
   ],
   "source": [
    "y_true = M_test[:, 2]\n",
    "y_predict = np.zeros(len(y_true))\n",
    "\n",
    "for i, nnz in enumerate(M_test):\n",
    "    row, col, rating = nnz\n",
    "    row = int(row)\n",
    "    col = int(col)\n",
    "    \n",
    "    y_predict = col2mean[col]\n",
    "    \n",
    "rmse = calc_rmse(y_true, y_predict)\n",
    "print('RMSE using the average of columns: {:.5f}'.format(rmse))"
   ]
  }
 ],
 "metadata": {
  "kernelspec": {
   "display_name": "Python 3",
   "language": "python",
   "name": "python3"
  },
  "language_info": {
   "codemirror_mode": {
    "name": "ipython",
    "version": 3
   },
   "file_extension": ".py",
   "mimetype": "text/x-python",
   "name": "python",
   "nbconvert_exporter": "python",
   "pygments_lexer": "ipython3",
   "version": "3.7.9"
  }
 },
 "nbformat": 4,
 "nbformat_minor": 4
}
