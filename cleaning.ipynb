{
 "cells": [
  {
   "cell_type": "code",
   "execution_count": 5,
   "metadata": {},
   "outputs": [],
   "source": [
    "import numpy as np\n",
    "\n",
    "import mr.io\n",
    "import mr.dataset\n",
    "from mr import utils"
   ]
  },
  {
   "cell_type": "code",
   "execution_count": 6,
   "metadata": {},
   "outputs": [],
   "source": [
    "filename = mr.dataset.download_ml_small()\n",
    "dataset_name = filename.split('.')[0]\n",
    "M = mr.io.read_movielens_input(filename)\n",
    "M = utils.map_data_to_matrix(M, save=True, filename=dataset_name)"
   ]
  },
  {
   "cell_type": "code",
   "execution_count": 7,
   "metadata": {},
   "outputs": [
    {
     "name": "stdout",
     "output_type": "stream",
     "text": [
      "Row count: 610\n",
      "Col count: 9724\n",
      "Nnz count: 100836\n"
     ]
    }
   ],
   "source": [
    "row_count = int(M[:, 0].max() + 1)\n",
    "col_count = int(M[:, 1].max() + 1)\n",
    "print('Row count: {}'.format(row_count))\n",
    "print('Col count: {}'.format(col_count))\n",
    "print('Nnz count: {}'.format(M.shape[0]))"
   ]
  },
  {
   "cell_type": "code",
   "execution_count": 8,
   "metadata": {},
   "outputs": [],
   "source": [
    "M_train, M_test = utils.shuffle_split(M, 0.8)\n",
    "np.save('{}_tr'.format(dataset_name), M_train)\n",
    "\n",
    "M_test = utils.sort_nonzero_order(M_test)\n",
    "np.save('{}_te'.format(dataset_name), M_test)"
   ]
  }
 ],
 "metadata": {
  "kernelspec": {
   "display_name": "Python 3",
   "language": "python",
   "name": "python3"
  },
  "language_info": {
   "codemirror_mode": {
    "name": "ipython",
    "version": 3
   },
   "file_extension": ".py",
   "mimetype": "text/x-python",
   "name": "python",
   "nbconvert_exporter": "python",
   "pygments_lexer": "ipython3",
   "version": "3.7.9"
  }
 },
 "nbformat": 4,
 "nbformat_minor": 4
}
