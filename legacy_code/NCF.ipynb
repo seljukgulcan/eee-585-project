{
 "cells": [
  {
   "cell_type": "code",
   "execution_count": 1,
   "metadata": {},
   "outputs": [],
   "source": [
    "# Neural Collaborative Filtering"
   ]
  },
  {
   "cell_type": "code",
   "execution_count": 1,
   "metadata": {},
   "outputs": [],
   "source": [
    "import math\n",
    "\n",
    "import numpy as np\n",
    "from tqdm import tqdm\n",
    "\n",
    "dataset_name = 'ml_small'\n",
    "# dataset_name = 'ml_25m'\n",
    "\n",
    "# Load the matrix\n",
    "M = np.load('{}.npy'.format(dataset_name))\n",
    "\n",
    "# Shuffle and split\n",
    "np.random.shuffle(M)\n",
    "nnz_count = M.shape[0]\n",
    "row_count = int(M[:, 0].max() + 1)\n",
    "col_count = int(M[:, 1].max() + 1)\n",
    "\n",
    "training_count = round(nnz_count * 0.8)\n",
    "test_count = nnz_count - training_count\n",
    "\n",
    "M_train = M[:training_count, :]\n",
    "M_test = M[training_count:, :]"
   ]
  },
  {
   "cell_type": "code",
   "execution_count": 2,
   "metadata": {},
   "outputs": [],
   "source": [
    "def sigmoid(x):\n",
    "    return 1 / (1 + np.exp(-1 * x))\n",
    "\n",
    "class NeuralCollaborativeFiltering:\n",
    "    \"\"\"\n",
    "    MLPRegressor with single target. The network is trained with SGD.\n",
    "    \"\"\"\n",
    "    \n",
    "    def __init__(self, f, row_count, col_count, layers, lr=0.001):\n",
    "        \n",
    "        # f is the factor size\n",
    "        # layers[0] should be 2 * f\n",
    "        # layers is a tuple of ints (3, 5) means 3 input nodes, 5 hidden nodes\n",
    "        self.weight_lst = []\n",
    "        self.bias_lst = []\n",
    "        self.lr = lr\n",
    "        self.f = f\n",
    "        self.layer_count = len(layers)\n",
    "        \n",
    "        self.P = np.random.uniform(size=(row_count, f))\n",
    "        self.Q = np.random.uniform(size=(col_count, f))\n",
    "        \n",
    "        left_node_size = layers[0]\n",
    "        for right_node_size in layers[1:]:\n",
    "            self.weight_lst.append(np.random.randn(right_node_size, left_node_size))\n",
    "            self.bias_lst.append(np.random.randn(right_node_size))\n",
    "            left_node_size = right_node_size\n",
    "        \n",
    "        self.weight_lst.append(np.random.randn(1, left_node_size))\n",
    "        self.bias_lst.append(np.random.randn(1))\n",
    "    \n",
    "    def train(self, X, y, epoch_count=1, verbose=False):\n",
    "        \n",
    "        self._loss = []\n",
    "        if verbose:\n",
    "            y_predict = self.predict(X)\n",
    "            error = (y_predict - y) ** 2\n",
    "            error = error.mean()\n",
    "            self._loss.append(error)\n",
    "        \n",
    "        for epoch in tqdm(range(epoch_count)):\n",
    "            \n",
    "            # Shuffle the training samples\n",
    "            ind = np.arange(X.shape[0])\n",
    "            np.random.shuffle(ind)\n",
    "            X = X[ind]\n",
    "            y = y[ind]\n",
    "            \n",
    "            self._train_epoch(X, y)\n",
    "            \n",
    "            if verbose:\n",
    "                y_predict = self.predict(X)\n",
    "                error = (y_predict - y) ** 2\n",
    "                error = error.mean()\n",
    "                self._loss.append(error)\n",
    "    \n",
    "    def _train_epoch(self, X, y):\n",
    "        \n",
    "        a_lst = [None for _ in range(self.layer_count)]   # a_k = sigmoid(z_k) where z_k is the output, W_k * a_{k-1}\n",
    "        \n",
    "        for x, y_true in zip(X, y):\n",
    "            # Feed forward\n",
    "            #print(x)\n",
    "            row, col = map(int, x)\n",
    "            \n",
    "            a = np.concatenate((mdl.P[row], mdl.Q[col]))\n",
    "            a_lst[0] = a\n",
    "            for i in range(self.layer_count - 1):\n",
    "                W = self.weight_lst[i]\n",
    "                b = self.bias_lst[i]\n",
    "                z = W @ a + b\n",
    "                a = sigmoid(z)\n",
    "                a_lst[i + 1] = a\n",
    "            \n",
    "            y_predict = self.weight_lst[-1] @ a + self.bias_lst[-1]\n",
    "            \n",
    "            # Backpropagation\n",
    "            e = y_predict - y_true\n",
    "            next_e = e * self.weight_lst[-1]\n",
    "            \n",
    "            gradient = a_lst[-1] * e\n",
    "            \n",
    "            self.weight_lst[-1] -= self.lr * gradient\n",
    "            self.bias_lst[-1] -= self.lr * e\n",
    "            e = next_e\n",
    "            \n",
    "            for i in reversed(range(len(self.weight_lst) - 1)):\n",
    "                next_e = e @ self.weight_lst[i]\n",
    "                bias_gradient = e * a_lst[i + 1] * (1 - a_lst[i + 1])\n",
    "                self.bias_lst[i] -= self.lr * bias_gradient.ravel()\n",
    "                \n",
    "                gradient = bias_gradient.T @ a_lst[i].reshape(1, -1)\n",
    "                self.weight_lst[i] -= self.lr * gradient\n",
    "                e = next_e\n",
    "                \n",
    "            self.P[row] -= self.lr * e.ravel()[:self.f]\n",
    "            self.Q[col] -= self.lr * e.ravel()[self.f:]\n",
    "    \n",
    "    def predict(self, X):\n",
    "        \n",
    "        # X is (N, 3) or (N, 2)\n",
    "        \n",
    "        # Get embeddings\n",
    "        X = np.hstack((self.P[X[:, 0].astype(int), :], self.Q[X[:, 1].astype(int), :]))\n",
    "        \n",
    "        a = X.T\n",
    "        # hidden layers\n",
    "        for W, b in zip(self.weight_lst[:-1], self.bias_lst[:-1]):\n",
    "            z = W @ a + b.reshape(-1, 1)\n",
    "            a = sigmoid(z)\n",
    "        \n",
    "        y_predict = self.weight_lst[-1] @ a + self.bias_lst[-1]\n",
    "        return y_predict.ravel()"
   ]
  },
  {
   "cell_type": "code",
   "execution_count": 3,
   "metadata": {},
   "outputs": [],
   "source": [
    "def compute_rmse(y_predict, y_true):\n",
    "    return np.sqrt(((y_predict - y_true) ** 2).mean())"
   ]
  },
  {
   "cell_type": "code",
   "execution_count": 4,
   "metadata": {},
   "outputs": [
    {
     "name": "stderr",
     "output_type": "stream",
     "text": [
      "\r",
      "  0%|          | 0/100 [00:00<?, ?it/s]"
     ]
    },
    {
     "name": "stdout",
     "output_type": "stream",
     "text": [
      "10.24880807007689\n"
     ]
    },
    {
     "name": "stderr",
     "output_type": "stream",
     "text": [
      "100%|██████████| 100/100 [06:39<00:00,  3.99s/it]"
     ]
    },
    {
     "name": "stdout",
     "output_type": "stream",
     "text": [
      "0.7760348107145926\n"
     ]
    },
    {
     "name": "stderr",
     "output_type": "stream",
     "text": [
      "\n"
     ]
    }
   ],
   "source": [
    "mdl = NeuralCollaborativeFiltering(f=16, row_count=row_count, col_count=col_count, layers=(32, 16))\n",
    "y_predict = mdl.predict(M_train)\n",
    "rmse = compute_rmse(y_predict, M_train[:, 2])\n",
    "print(rmse)\n",
    "\n",
    "mdl.train(M_train[:, :2], M_train[:, -1], epoch_count=100)\n",
    "y_predict = mdl.predict(M_train)\n",
    "rmse = compute_rmse(y_predict, M_train[:, 2])\n",
    "print(rmse)"
   ]
  },
  {
   "cell_type": "code",
   "execution_count": 5,
   "metadata": {},
   "outputs": [
    {
     "name": "stdout",
     "output_type": "stream",
     "text": [
      "0.8822412191214752\n"
     ]
    }
   ],
   "source": [
    "y_predict = mdl.predict(M_test)\n",
    "rmse = compute_rmse(y_predict, M_test[:, 2])\n",
    "print(rmse)"
   ]
  },
  {
   "cell_type": "code",
   "execution_count": 49,
   "metadata": {},
   "outputs": [
    {
     "data": {
      "text/plain": [
       "(80669, 3)"
      ]
     },
     "execution_count": 49,
     "metadata": {},
     "output_type": "execute_result"
    }
   ],
   "source": [
    "M_train.shape"
   ]
  }
 ],
 "metadata": {
  "kernelspec": {
   "display_name": "Python 3",
   "language": "python",
   "name": "python3"
  },
  "language_info": {
   "codemirror_mode": {
    "name": "ipython",
    "version": 3
   },
   "file_extension": ".py",
   "mimetype": "text/x-python",
   "name": "python",
   "nbconvert_exporter": "python",
   "pygments_lexer": "ipython3",
   "version": "3.7.9"
  }
 },
 "nbformat": 4,
 "nbformat_minor": 4
}
