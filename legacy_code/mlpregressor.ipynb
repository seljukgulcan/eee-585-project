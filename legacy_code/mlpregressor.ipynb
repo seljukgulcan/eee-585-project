{
 "cells": [
  {
   "cell_type": "code",
   "execution_count": 1,
   "metadata": {},
   "outputs": [],
   "source": [
    "import numpy as np\n",
    "import matplotlib.pyplot as plt"
   ]
  },
  {
   "cell_type": "code",
   "execution_count": 2,
   "metadata": {},
   "outputs": [],
   "source": [
    "def sigmoid(x):\n",
    "    return 1 / (1 + np.exp(-1 * x))"
   ]
  },
  {
   "cell_type": "code",
   "execution_count": 126,
   "metadata": {},
   "outputs": [],
   "source": [
    "class MLPRegressor:\n",
    "    \"\"\"\n",
    "    MLPRegressor with single target. The network is trained with SGD.\n",
    "    \"\"\"\n",
    "    \n",
    "    def __init__(self, layers, lr=0.001):\n",
    "        \n",
    "        # layers is a tuple of ints (3, 5) means 3 input nodes, 5 hidden nodes\n",
    "        self.weight_lst = []\n",
    "        self.bias_lst = []\n",
    "        self.lr = lr\n",
    "        self.layer_count = len(layers)\n",
    "        \n",
    "        left_node_size = layers[0]\n",
    "        for right_node_size in layers[1:]:\n",
    "            self.weight_lst.append(np.random.randn(right_node_size, left_node_size))\n",
    "            self.bias_lst.append(np.random.randn(right_node_size))\n",
    "            left_node_size = right_node_size\n",
    "        \n",
    "        self.weight_lst.append(np.random.randn(1, left_node_size))\n",
    "        self.bias_lst.append(np.random.randn(1))\n",
    "    \n",
    "    def train(self, X, y, epoch_count=1, verbose=False):\n",
    "        \n",
    "        self._loss = []\n",
    "        if verbose:\n",
    "            y_predict = self.predict(X)\n",
    "            error = (y_predict - y) ** 2\n",
    "            error = error.mean()\n",
    "            self._loss.append(error)\n",
    "        \n",
    "        for epoch in range(epoch_count):\n",
    "            \n",
    "            # Shuffle the training samples\n",
    "            ind = np.arange(X.shape[0])\n",
    "            np.random.shuffle(ind)\n",
    "            X = X[ind]\n",
    "            y = y[ind]\n",
    "            \n",
    "            self._train_epoch(X, y)\n",
    "            \n",
    "            if verbose:\n",
    "                y_predict = self.predict(X)\n",
    "                error = (y_predict - y) ** 2\n",
    "                error = error.mean()\n",
    "                self._loss.append(error)\n",
    "    \n",
    "    def _train_epoch(self, X, y):\n",
    "        \n",
    "        a_lst = [None for _ in range(self.layer_count)]   # a_k = sigmoid(z_k) where z_k is the output, W_k * a_{k-1}\n",
    "        \n",
    "        for x, y_true in zip(X, y):\n",
    "            # Feed forward\n",
    "            a = x\n",
    "            a_lst[0] = a\n",
    "            for i in range(self.layer_count - 1):\n",
    "                W = self.weight_lst[i]\n",
    "                b = self.bias_lst[i]\n",
    "                z = W @ a + b\n",
    "                a = sigmoid(z)\n",
    "                a_lst[i + 1] = a\n",
    "            \n",
    "            y_predict = self.weight_lst[-1] @ a + self.bias_lst[-1]\n",
    "            # Backpropagation\n",
    "            e = y_predict - y_true\n",
    "            next_e = e * self.weight_lst[-1]\n",
    "            \n",
    "            gradient = a_lst[-1] * e\n",
    "            \n",
    "            self.weight_lst[-1] -= self.lr * gradient\n",
    "            self.bias_lst[-1] -= self.lr * e\n",
    "            e = next_e\n",
    "            \n",
    "            for i in reversed(range(len(self.weight_lst) - 1)):\n",
    "                next_e = e @ self.weight_lst[i]\n",
    "                bias_gradient = e * a_lst[i + 1] * (1 - a_lst[i + 1])\n",
    "                self.bias_lst[i] -= self.lr * bias_gradient.ravel()\n",
    "                \n",
    "                gradient = bias_gradient.T @ a_lst[i].reshape(1, -1)\n",
    "                self.weight_lst[i] -= self.lr * gradient\n",
    "                e = next_e\n",
    "    \n",
    "    def predict(self, X):\n",
    "        a = X.T\n",
    "        # hidden layers\n",
    "        for W, b in zip(self.weight_lst[:-1], self.bias_lst[:-1]):\n",
    "            z = W @ a + b.reshape(-1, 1)\n",
    "            a = sigmoid(z)\n",
    "        \n",
    "        y_predict = self.weight_lst[-1] @ a + self.bias_lst[-1]\n",
    "        return y_predict.ravel()"
   ]
  },
  {
   "cell_type": "code",
   "execution_count": 127,
   "metadata": {},
   "outputs": [],
   "source": [
    "X = np.random.rand(5, 10)\n",
    "\n",
    "W = np.arange(1, 11).reshape(1, 10)\n",
    "\n",
    "y = (W @ X.T).ravel()"
   ]
  },
  {
   "cell_type": "code",
   "execution_count": 132,
   "metadata": {},
   "outputs": [
    {
     "name": "stdout",
     "output_type": "stream",
     "text": [
      "23.299485642634558\n",
      "1.052401480522161\n"
     ]
    }
   ],
   "source": [
    "mdl = MLPRegressor(layers=(10, 200))\n",
    "y_predict = mdl.predict(X)\n",
    "error = abs(y_predict - y)\n",
    "error = error.mean()\n",
    "print(error)\n",
    "mdl.train(X, y, epoch_count=100, verbose=True)\n",
    "\n",
    "y_predict = mdl.predict(X)\n",
    "error = abs(y_predict - y)\n",
    "error = error.mean()\n",
    "print(error)"
   ]
  },
  {
   "cell_type": "code",
   "execution_count": 133,
   "metadata": {},
   "outputs": [
    {
     "data": {
      "image/png": "[encoded data removed]",
      "text/plain": [
       "<Figure size 432x288 with 1 Axes>"
      ]
     },
     "metadata": {
      "needs_background": "light"
     },
     "output_type": "display_data"
    }
   ],
   "source": [
    "plt.plot(np.arange(len(mdl._loss)), mdl._loss)\n",
    "plt.show()"
   ]
  }
 ],
 "metadata": {
  "kernelspec": {
   "display_name": "Python 3",
   "language": "python",
   "name": "python3"
  },
  "language_info": {
   "codemirror_mode": {
    "name": "ipython",
    "version": 3
   },
   "file_extension": ".py",
   "mimetype": "text/x-python",
   "name": "python",
   "nbconvert_exporter": "python",
   "pygments_lexer": "ipython3",
   "version": "3.7.9"
  }
 },
 "nbformat": 4,
 "nbformat_minor": 4
}
